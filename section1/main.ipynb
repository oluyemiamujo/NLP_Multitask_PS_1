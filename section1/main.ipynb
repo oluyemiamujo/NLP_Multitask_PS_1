{
 "cells": [
  {
   "cell_type": "code",
   "execution_count": 1,
   "metadata": {},
   "outputs": [
    {
     "name": "stderr",
     "output_type": "stream",
     "text": [
      "[nltk_data] Downloading package punkt to /home/oa6121/nltk_data...\n",
      "[nltk_data]   Package punkt is already up-to-date!\n",
      "[nltk_data] Downloading package stopwords to /home/oa6121/nltk_data...\n",
      "[nltk_data]   Package stopwords is already up-to-date!\n"
     ]
    },
    {
     "data": {
      "text/plain": [
       "True"
      ]
     },
     "execution_count": 1,
     "metadata": {},
     "output_type": "execute_result"
    }
   ],
   "source": [
    "import re\n",
    "import nltk\n",
    "from nltk.tokenize import word_tokenize, sent_tokenize\n",
    "from nltk.corpus import stopwords\n",
    "from collections import defaultdict\n",
    "from itertools import combinations\n",
    "from nltk.probability import FreqDist\n",
    "import math\n",
    "\n",
    "nltk.download('punkt')\n",
    "nltk.download('stopwords')"
   ]
  },
  {
   "cell_type": "code",
   "execution_count": 2,
   "metadata": {},
   "outputs": [],
   "source": [
    "# 1. Download a decently sized corpus (between 500,000 and 2 million words) from Gutenberg.\n",
    "# 2. Using regular expressions or other methods, write a function to remove any \n",
    "# extraneous stuff from the text (start/end text from Gutenberg).\n",
    "def remove_extraneous(text):\n",
    "    # Define the start and end patterns often found in Gutenberg texts\n",
    "    start_pattern = r\"\\*\\*\\* START OF (THE|THIS) PROJECT GUTENBERG EBOOK .* \\*\\*\\*\"\n",
    "    end_pattern = r\"\\*\\*\\* END OF (THE|THIS) PROJECT GUTENBERG EBOOK .* \\*\\*\\*\"\n",
    "    \n",
    "    # identify the start of the content\n",
    "    start_match = re.search(start_pattern, text, re.IGNORECASE)\n",
    "    if start_match:\n",
    "        text = text[start_match.end():]  # Trim everything before the start match\n",
    "    \n",
    "    # identify the end of the content\n",
    "    end_match = re.search(end_pattern, text, re.IGNORECASE)\n",
    "    if end_match:\n",
    "        text = text[:end_match.start()]  # Trim everything after the end match\n",
    "    \n",
    "    # Return the cleaned text\n",
    "    return text.strip()\n",
    "\n",
    "\n",
    "import string\n",
    "\n",
    "# function to remove all punctuations\n",
    "def remove_punctuation(text):\n",
    "    # Create a translation table to remove punctuation\n",
    "    return text.translate(str.maketrans('', '', string.punctuation))\n",
    "\n",
    "\n",
    "# Function to read text file\n",
    "def read_text_file(file_path):\n",
    "    try:\n",
    "        with open(file_path, 'r', encoding='utf-8') as file:\n",
    "            text = file.read()\n",
    "            return text\n",
    "    except FileNotFoundError:\n",
    "        print(f\"Error: File not found at {file_path}\")\n",
    "    except Exception as e:\n",
    "        print(f\"An error occurred: {e}\")\n",
    "\n",
    "\n",
    "# Function to print out some text: accept the text and length to pprint\n",
    "def print_out_some_text(text, length_to_print):\n",
    "    if text:\n",
    "        print(text[:length_to_print])  # Print first 500 characters for preview\n",
    "\n",
    "# Function to read text file\n",
    "def read_text_file(file_path):\n",
    "    try:\n",
    "        with open(file_path, 'r', encoding='utf-8') as file:\n",
    "            text = file.read()\n",
    "            return text\n",
    "    except FileNotFoundError:\n",
    "        print(f\"Error: File not found at {file_path}\")\n",
    "    except Exception as e:\n",
    "        print(f\"An error occurred: {e}\")\n",
    "\n",
    "\n",
    "# Function to print out some text: accept the text and length to pprint\n",
    "def print_out_some_text(text, length_to_print):\n",
    "    if text:\n",
    "        print(text[:length_to_print])  # Print first 500 characters for preview\n",
    "        \n",
    "        \n",
    "# Analyze the text with PMI\n",
    "# 3. Read in the text, then tokenize and lowercase it \n",
    "# (e.g., use nltk.word_tokenize and string functions.\n",
    "def text_tokenize_and_lowercase(text):\n",
    "\n",
    "    text = remove_punctuation(text)     #Remove punctuations\n",
    "    # Tokenize the text \n",
    "    # Note: Since the instruction is not given, stop-words are not removed. \n",
    "    tokens = word_tokenize(text)\n",
    "    \n",
    "    # Convert each token to lowercase\n",
    "    tokens_lowercase = [token.lower() for token in tokens]\n",
    "    \n",
    "    return tokens_lowercase\n",
    "\n",
    "\n",
    "# 4. Computation of unigram frequencies of the text. \n",
    "def calculate_unigram_freq(t):    \n",
    "    # Calculate unigram frequencies\n",
    "    freq_dist = FreqDist(t)\n",
    "    \n",
    "    return freq_dist\n",
    "\n",
    "\n",
    "\n",
    "# # Print the frequencies of unigrams\n",
    "# for word, freq in freqDist.items():\n",
    "#     print(f'{word}: {freq}')"
   ]
  },
  {
   "cell_type": "code",
   "execution_count": 13,
   "metadata": {},
   "outputs": [],
   "source": [
    "# 5. Count 2-word adjacent and non-adjacent collocations in each sentence in your text\n",
    "# using a 4-word sliding window and considering all pairs of words in the window.\n",
    "def count_collocations_with_sliding_window(text):\n",
    "    # Initialize dictionaries to store counts for adjacent and non-adjacent collocations\n",
    "    adjacent_collocations = defaultdict(int)\n",
    "    non_adjacent_collocations = defaultdict(int)\n",
    "    text = remove_punctuation(text)     #Remove punctuations\n",
    "    # first tokenize the text into sentences\n",
    "    sentences = sent_tokenize(text)\n",
    "    for sentence in sentences:\n",
    "        # secondly tokenize and lowercase each sentence\n",
    "        tokens = word_tokenize(sentence.lower())\n",
    "        \n",
    "        # Iterate over the sentence with a 4-word sliding window\n",
    "        for i in range(len(tokens) - 3):\n",
    "            window = tokens[i:i + 4]  # Get 4-word sliding window\n",
    "            # print(\"window\", window)\n",
    "            # Get all 2-word within the window (combinations of words)\n",
    "            word_pairs = list(combinations(window, 2))\n",
    "            for pair in word_pairs:\n",
    "                # If the words are adjacent, count as adjacent collocation\n",
    "                if abs(tokens.index(pair[0]) - tokens.index(pair[1])) == 1:\n",
    "                    adjacent_collocations[pair] += 1\n",
    "                # If the words are non-adjacent, count as non-adjacent collocation\n",
    "                else:\n",
    "                    non_adjacent_collocations[pair] += 1\n",
    "    \n",
    "    return adjacent_collocations, non_adjacent_collocations \n",
    "\n",
    "\n",
    "# 6. Filter out the collocations that contain a stop word. You may use NLTK’s stop list:\n",
    "# from nltk.corpus import stopwords\n",
    "# stoplist = stopwords.words('english')\n",
    "# You are recommended to append to the stoplist to cover most English function words.\n",
    "# Tell us which words you added in your report. ['would', 'could', 'might', 'must', 'also', 'yet']\n",
    "# The function also output unigrams Count to be used as the number of collocations.\n",
    "def count_collocations_and_stopword_filtered(text):\n",
    "    # Remove punctuation from the text\n",
    "    # text = remove_punctuation(text)\n",
    "    \n",
    "    # Get the default stopword list and add more common English function words\n",
    "    stoplist = stopwords.words('english')\n",
    "    additional_stopwords = ['would', 'could', 'might', 'must', 'also', 'yet', '“', '”', '’', '‘' ]\n",
    "    stoplist.extend(additional_stopwords)\n",
    "    \n",
    "    # Initialize dictionaries to store counts for adjacent and non-adjacent collocations\n",
    "    adjacent_collocations = defaultdict(int)\n",
    "    non_adjacent_collocations = defaultdict(int)\n",
    "    \n",
    "    # Initialize a  unigrams counter, \n",
    "    unigram_counts = defaultdict(int)\n",
    "    text = remove_punctuation(text)     #Remove punctuations\n",
    "    # Tokenize the text into sentences\n",
    "    sentences = sent_tokenize(text)\n",
    "    \n",
    "    for sentence in sentences:\n",
    "        # Tokenize and lowercase each sentence\n",
    "        tokens = word_tokenize(sentence.lower())\n",
    "        \n",
    "        # Count unigrams to be used as the number of collocations.\n",
    "        for token in tokens:\n",
    "            if token not in stoplist:\n",
    "                unigram_counts[token] += 1\n",
    "        \n",
    "        # Iterate over the sentence with a 4-word sliding window\n",
    "        for i in range(len(tokens) - 3):\n",
    "            window = tokens[i:i + 4]  # Get 4-word sliding window\n",
    "            \n",
    "            # Get all pairs within the window (combinations of words)\n",
    "            word_pairs = list(combinations(window, 2))\n",
    "            \n",
    "            for pair in word_pairs:\n",
    "                # Filter out pairs that contain any stopword\n",
    "                if pair[0] in stoplist or pair[1] in stoplist:\n",
    "                    continue  # Skip this pair if either word is a stop word\n",
    "                \n",
    "                # If the words are adjacent, count as adjacent collocation\n",
    "                if abs(tokens.index(pair[0]) - tokens.index(pair[1])) == 1:\n",
    "                    adjacent_collocations[pair] += 1\n",
    "                # If the words are non-adjacent, count as non-adjacent collocation\n",
    "                else:\n",
    "                    non_adjacent_collocations[pair] += 1\n",
    "    \n",
    "    return unigram_counts, adjacent_collocations, non_adjacent_collocations\n",
    "\n",
    "\n",
    "\n",
    "# 7. Calculate the pointwise mutual information (PMI) of every collocation with count\n",
    "# greater than 2 with the following equation, which can be derived if assuming that\n",
    "# the number of unigrams (N in the equation below) is approximately equal to the\n",
    "# number of collocations.\n",
    "def pointwise_mutual_information_computation(unigram_counts, collocations, total_unigrams):\n",
    "    # Dictionary to store PMI values\n",
    "    pmi_scores = {}\n",
    "    \n",
    "    # Iterate through collocations and compute PMI for those with count > 2\n",
    "    for pair, count in collocations.items():\n",
    "        if count > 2:\n",
    "\n",
    "            # PMI(w1, w2) = log2(N(count(w1, w2) / (count(w1) * count(w2))))\n",
    "            count_w1_w2 = count                     # Get a joint counts of w1 & w2 from collocation\n",
    "            count_w1 = unigram_counts[pair[0]]      # count(w1)\n",
    "            count_w2 = unigram_counts[pair[1]]      # count(w2)\n",
    "\n",
    "            # Calculate PMI\n",
    "            pmi = math.log(total_unigrams * (count_w1_w2 / (count_w1 * count_w2)), 2)  # PMI with count and log base 2\n",
    "            \n",
    "            # Store the PMI score\n",
    "            pmi_scores[pair] = pmi\n",
    "    \n",
    "    return pmi_scores\n"
   ]
  },
  {
   "cell_type": "code",
   "execution_count": 4,
   "metadata": {},
   "outputs": [],
   "source": [
    "# Performance estimate of collocations\n",
    "def performance_of_collocations_by_pmi(pmi_scores, n=5):\n",
    "    # Sort PMI scores in descending order for best and ascending order for worst\n",
    "    sorted_pmi = sorted(pmi_scores.items(), key=lambda x: x[1], reverse=True)\n",
    "    \n",
    "    # Top 5 good collocations (highest PMI)\n",
    "    good_collocations = sorted_pmi[:n]\n",
    "    \n",
    "    # Bottom 5 not-so-good collocations (lowest PMI)\n",
    "    poor_collocations = sorted_pmi[-n:]\n",
    "    \n",
    "    return good_collocations, poor_collocations\n"
   ]
  },
  {
   "cell_type": "code",
   "execution_count": 5,
   "metadata": {},
   "outputs": [],
   "source": [
    "# Read text GUTENBERG text file\n",
    "file_path = 'the_replic_by_plato.txt'\n",
    "text_content = read_text_file(file_path)"
   ]
  },
  {
   "cell_type": "code",
   "execution_count": 6,
   "metadata": {},
   "outputs": [],
   "source": [
    "# remove extraneous stuff\n",
    "text_content_after_remove_extraneous = remove_extraneous(text_content)\n",
    "# print_out_some_text(text_content_after_remove_extraneous, 200)  #print the first 200 words"
   ]
  },
  {
   "cell_type": "code",
   "execution_count": 7,
   "metadata": {},
   "outputs": [],
   "source": [
    "#call tokenization function\n",
    "tokens = text_tokenize_and_lowercase(text_content_after_remove_extraneous)\n",
    "# print_out_some_text(tokens, 50)"
   ]
  },
  {
   "cell_type": "code",
   "execution_count": 8,
   "metadata": {},
   "outputs": [],
   "source": [
    "# call frequency distribution function\n",
    "freqDist = calculate_unigram_freq(tokens)"
   ]
  },
  {
   "cell_type": "code",
   "execution_count": 9,
   "metadata": {},
   "outputs": [],
   "source": [
    "\n",
    "# call count collocations with sliding window function\n",
    "adjacent, non_adjacent = count_collocations_with_sliding_window(text_content_after_remove_extraneous)"
   ]
  },
  {
   "cell_type": "code",
   "execution_count": 10,
   "metadata": {},
   "outputs": [],
   "source": [
    "# call count collocations with stopword filtered\n",
    "ngram_count, adjacent, non_adjacent = count_collocations_and_stopword_filtered(text_content_after_remove_extraneous)"
   ]
  },
  {
   "cell_type": "code",
   "execution_count": 11,
   "metadata": {},
   "outputs": [],
   "source": [
    "# Step 1: Count unigrams and collocations\n",
    "unigram_counts, adjacent_collocations, non_adjacent_collocations = count_collocations_and_stopword_filtered(text_content_after_remove_extraneous)\n"
   ]
  },
  {
   "cell_type": "code",
   "execution_count": 14,
   "metadata": {},
   "outputs": [],
   "source": [
    "# Step 2: Compute total unigrams\n",
    "total_unigrams = sum(unigram_counts.values())\n",
    "\n",
    "# Step 3: Compute PMI for adjacent collocations (with count > 2)\n",
    "pmi_scores_adjacent = pointwise_mutual_information_computation(unigram_counts, adjacent_collocations, total_unigrams)\n",
    "pmi_scores_non_adjacent = pointwise_mutual_information_computation(unigram_counts, non_adjacent_collocations, total_unigrams)\n"
   ]
  },
  {
   "cell_type": "code",
   "execution_count": 15,
   "metadata": {},
   "outputs": [],
   "source": [
    "good_collocations_adj, poor_collocations_adj = performance_of_collocations_by_pmi(pmi_scores_adjacent, n=5)\n",
    "good_collocations_non_adj, poor_collocations_non_adj = performance_of_collocations_by_pmi(pmi_scores_non_adjacent, n=5)"
   ]
  },
  {
   "cell_type": "code",
   "execution_count": 32,
   "metadata": {},
   "outputs": [
    {
     "name": "stdout",
     "output_type": "stream",
     "text": [
      "Performance of Adjacent collocations\n",
      "5 good adjacent collocations identified using PMI:\n",
      "('ebook', '150')  :  18.075562713740748\n",
      "('cratyl', '435')  :  18.075562713740748\n",
      "('435', '436')  :  18.075562713740748\n",
      "('elenchi', '33')  :  18.075562713740748\n",
      "('polemarchus—then', 'caricatured')  :  18.075562713740748\n",
      "\n",
      "\n",
      "5 poor adjacent collocations identified using PMI:\n",
      "('great', 'forms')  :  4.075914977212378\n",
      "('two', 'philosophers')  :  3.954272040285295\n",
      "('good', 'order')  :  3.5351319250597713\n",
      "('injustice', 'shall')  :  2.862230622188364\n",
      "('one', 'age')  :  2.8011891107861833\n"
     ]
    }
   ],
   "source": [
    "# print(\"5 good adjacent collocations identified using PMI: \", good_collocations)\n",
    "# print(\"5 poor adjacent collocations identified using PMI: \", poor_collocations)\n",
    "print(\"Performance of Adjacent collocations\")\n",
    "print(\"5 good adjacent collocations identified using PMI:\")\n",
    "for pair in good_collocations_adj:\n",
    "    print(pair[0], \" : \", pair[1])\n",
    "print(\"\\n\")\n",
    "print(\"5 poor adjacent collocations identified using PMI:\")\n",
    "for pair in poor_collocations_adj:\n",
    "    print(pair[0], \" : \", pair[1])"
   ]
  },
  {
   "cell_type": "code",
   "execution_count": 33,
   "metadata": {},
   "outputs": [
    {
     "name": "stdout",
     "output_type": "stream",
     "text": [
      "Performance of Non-adjacent collocations\n",
      "5 good non-adjacent collocations identified using PMI:\n",
      "('jowett', 'ebook')  :  17.075562713740748\n",
      "('698', 'ff')  :  17.075562713740748\n",
      "('symp', '193')  :  17.075562713740748\n",
      "('exceptional', 'cases—what')  :  17.075562713740748\n",
      "('attic', 'confections')  :  17.075562713740748\n",
      "\n",
      "\n",
      "5 poor non-adjacent collocations identified using PMI:\n",
      "('said', 'like')  :  -0.9464040540939502\n",
      "('said', 'good')  :  -0.9954648725448363\n",
      "('one', 'said')  :  -1.155514055211267\n",
      "('one', 'state')  :  -1.1819862665724579\n",
      "('said', 'state')  :  -1.4621865271126113\n"
     ]
    }
   ],
   "source": [
    "# print(\"5 good adjacent collocations identified using PMI: \", good_collocations)\n",
    "# print(\"5 poor adjacent collocations identified using PMI: \", poor_collocations)\n",
    "print(\"Performance of Non-adjacent collocations\")\n",
    "print(\"5 good non-adjacent collocations identified using PMI:\")\n",
    "for pair in good_collocations_non_adj:\n",
    "    print(pair[0], \" : \", pair[1])\n",
    "print(\"\\n\")\n",
    "print(\"5 poor non-adjacent collocations identified using PMI:\")\n",
    "for pair in poor_collocations_non_adj:\n",
    "    print(pair[0], \" : \", pair[1])"
   ]
  },
  {
   "cell_type": "code",
   "execution_count": null,
   "metadata": {},
   "outputs": [],
   "source": []
  }
 ],
 "metadata": {
  "kernelspec": {
   "display_name": "Python 3",
   "language": "python",
   "name": "python3"
  },
  "language_info": {
   "codemirror_mode": {
    "name": "ipython",
    "version": 3
   },
   "file_extension": ".py",
   "mimetype": "text/x-python",
   "name": "python",
   "nbconvert_exporter": "python",
   "pygments_lexer": "ipython3",
   "version": "3.8.7"
  }
 },
 "nbformat": 4,
 "nbformat_minor": 4
}
