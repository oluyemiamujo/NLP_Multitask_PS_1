{
 "cells": [
  {
   "cell_type": "code",
   "execution_count": 2,
   "metadata": {},
   "outputs": [],
   "source": [
    "# Import necessary functions\n",
    "from functions.preprocessing import preprocess_text, identify_ambiguous_words\n",
    "from functions.feature_extraction import extract_features, extract_position_features, extract_pos_features, extract_pos_position_features\n",
    "from functions.descision_list import measure_collocations, calculate_log_likelihood, build_decision_list, classify_word\n"
   ]
  },
  {
   "cell_type": "code",
   "execution_count": null,
   "metadata": {},
   "outputs": [],
   "source": [
    "\n",
    "# Load and preprocess your corpus\n",
    "with open('corpus.txt', 'r', encoding='utf-8') as file:\n",
    "    raw_text = file.read()\n",
    "\n",
    "# Step 1: Preprocess the text\n",
    "corpus = preprocess_text(raw_text)\n",
    "\n",
    "# Step 2: Identify ambiguous words\n",
    "ambiguous_words = identify_ambiguous_words(corpus)\n",
    "\n",
    "# Step 3: Extract features (context, position-based, POS features)\n",
    "context_features = extract_features(corpus, ambiguous_words, window_size=10)\n",
    "position_features = extract_position_features(corpus, ambiguous_words, k=1)\n",
    "pos_features = extract_pos_features(corpus, ambiguous_words, window_size=10)\n",
    "\n",
    "# Step 4: Measure collocations and calculate log-likelihood\n",
    "collocation_freq = measure_collocations(context_features)\n",
    "total_collocations = defaultdict(int)  # You would fill this with total frequencies\n",
    "log_likelihoods = calculate_log_likelihood(collocation_freq, total_collocations)\n",
    "\n",
    "# Step 5: Build the decision list\n",
    "decision_list = build_decision_list(log_likelihoods)\n",
    "\n",
    "# Step 6: Classify test data\n",
    "test_context = [\"context\", \"words\", \"for\", \"test\"]\n",
    "classified_word = classify_word(test_context, decision_list)\n",
    "\n",
    "print(f\"Classified Word: {classified_word}\")"
   ]
  }
 ],
 "metadata": {
  "kernelspec": {
   "display_name": "myenv",
   "language": "python",
   "name": "python3"
  },
  "language_info": {
   "codemirror_mode": {
    "name": "ipython",
    "version": 3
   },
   "file_extension": ".py",
   "mimetype": "text/x-python",
   "name": "python",
   "nbconvert_exporter": "python",
   "pygments_lexer": "ipython3",
   "version": "3.12.3"
  }
 },
 "nbformat": 4,
 "nbformat_minor": 2
}
