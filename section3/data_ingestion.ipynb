{
 "cells": [
  {
   "cell_type": "code",
   "execution_count": 3,
   "metadata": {},
   "outputs": [
    {
     "name": "stdout",
     "output_type": "stream",
     "text": [
      "Requirement already satisfied: pip in /Users/onkars/Documents/PSYC681/Problem Set/nlp1_rit_course/myenv/lib/python3.12/site-packages (24.0)\n",
      "Collecting pip\n",
      "  Using cached pip-24.2-py3-none-any.whl.metadata (3.6 kB)\n",
      "Using cached pip-24.2-py3-none-any.whl (1.8 MB)\n",
      "Installing collected packages: pip\n",
      "  Attempting uninstall: pip\n",
      "    Found existing installation: pip 24.0\n",
      "    Uninstalling pip-24.0:\n",
      "      Successfully uninstalled pip-24.0\n",
      "Successfully installed pip-24.2\n",
      "Note: you may need to restart the kernel to use updated packages.\n"
     ]
    }
   ],
   "source": [
    "%pip install --upgrade pip"
   ]
  },
  {
   "cell_type": "code",
   "execution_count": 2,
   "metadata": {},
   "outputs": [
    {
     "name": "stdout",
     "output_type": "stream",
     "text": [
      "Collecting urlopen\n",
      "  Downloading urlopen-1.0.0.zip (2.1 kB)\n",
      "  Installing build dependencies ... \u001b[?25ldone\n",
      "\u001b[?25h  Getting requirements to build wheel ... \u001b[?25ldone\n",
      "\u001b[?25h  Preparing metadata (pyproject.toml) ... \u001b[?25ldone\n",
      "\u001b[?25hBuilding wheels for collected packages: urlopen\n",
      "  Building wheel for urlopen (pyproject.toml) ... \u001b[?25ldone\n",
      "\u001b[?25h  Created wheel for urlopen: filename=urlopen-1.0.0-py3-none-any.whl size=1384 sha256=1c0badc6ded26538ac188769168be6d449efb9eece621d3b69e4bdc5d06b2859\n",
      "  Stored in directory: /Users/onkars/Library/Caches/pip/wheels/bc/fe/5f/c3e20258feb71b782685df99832a842d8487d76ce7d1fdc1db\n",
      "Successfully built urlopen\n",
      "Installing collected packages: urlopen\n",
      "Successfully installed urlopen-1.0.0\n",
      "\n",
      "\u001b[1m[\u001b[0m\u001b[34;49mnotice\u001b[0m\u001b[1;39;49m]\u001b[0m\u001b[39;49m A new release of pip is available: \u001b[0m\u001b[31;49m24.0\u001b[0m\u001b[39;49m -> \u001b[0m\u001b[32;49m24.2\u001b[0m\n",
      "\u001b[1m[\u001b[0m\u001b[34;49mnotice\u001b[0m\u001b[1;39;49m]\u001b[0m\u001b[39;49m To update, run: \u001b[0m\u001b[32;49mpip install --upgrade pip\u001b[0m\n",
      "Note: you may need to restart the kernel to use updated packages.\n"
     ]
    }
   ],
   "source": [
    "%pip install urlopen"
   ]
  },
  {
   "cell_type": "code",
   "execution_count": null,
   "metadata": {},
   "outputs": [],
   "source": [
    "from urllib.request import urlopen"
   ]
  },
  {
   "cell_type": "markdown",
   "metadata": {},
   "source": [
    "### Data Ingestion"
   ]
  },
  {
   "cell_type": "code",
   "execution_count": 4,
   "metadata": {},
   "outputs": [],
   "source": [
    "# Author: Chittenden, R. H. (Russell Henry)\n",
    "\n",
    "# On Digestive Proteolysis\n",
    "url1 = \"https://www.gutenberg.org/cache/epub/47938/pg47938.txt\"  \n",
    "response1 = urlopen(url1)\n",
    "raw_text1 = response1.read().decode('utf-8')\n",
    "\n",
    "# The nutrition of man\n",
    "url2 = \"https://www.gutenberg.org/cache/epub/69439/pg69439.txt\"  \n",
    "response2 = urlopen(url2)\n",
    "raw_text2 = response2.read().decode('utf-8')\n",
    "\n",
    "# Physiological economy in nutrition, with special reference to the minimal proteid requirement of the healthy man\n",
    "# an experimental study\n",
    "url3 = \"https://www.gutenberg.org/cache/epub/68830/pg68830.txt\"  \n",
    "response3 = urlopen(url3)\n",
    "raw_text3 = response3.read().decode('utf-8')"
   ]
  },
  {
   "cell_type": "code",
   "execution_count": null,
   "metadata": {},
   "outputs": [],
   "source": []
  },
  {
   "cell_type": "code",
   "execution_count": null,
   "metadata": {},
   "outputs": [],
   "source": []
  }
 ],
 "metadata": {
  "kernelspec": {
   "display_name": "myenv",
   "language": "python",
   "name": "python3"
  },
  "language_info": {
   "codemirror_mode": {
    "name": "ipython",
    "version": 3
   },
   "file_extension": ".py",
   "mimetype": "text/x-python",
   "name": "python",
   "nbconvert_exporter": "python",
   "pygments_lexer": "ipython3",
   "version": "3.12.3"
  }
 },
 "nbformat": 4,
 "nbformat_minor": 2
}
